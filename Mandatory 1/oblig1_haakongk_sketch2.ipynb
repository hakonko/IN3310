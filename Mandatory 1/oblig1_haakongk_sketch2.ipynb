{
 "cells": [
  {
   "cell_type": "markdown",
   "id": "5e559983-c9a7-43b1-9a60-6ed50e71fd3f",
   "metadata": {},
   "source": [
    "**Part a)** The first part is to split the data into three sets: training, validation, and test. Split each class separately so that there is an equal percentage of each class in all three sets. The number of total images in the validation is to be roughly 2000, in the test set 3000, and the remainder for the training set. It does not need to be exact. This is called a stratified split."
   ]
  },
  {
   "cell_type": "code",
   "execution_count": 1,
   "id": "9b3ab57c-d1aa-4c7a-91bb-d6c1d77ac4ab",
   "metadata": {},
   "outputs": [],
   "source": [
    "from pathlib import Path\n",
    "import shutil\n",
    "from sklearn.model_selection import train_test_split\n",
    "\n",
    "import torch\n",
    "import torch.nn as nn\n",
    "from torch.utils.data import DataLoader, Dataset\n",
    "from torchvision import datasets, transforms\n",
    "\n",
    "import torch.optim as optim\n",
    "from ResNet import ResNet\n",
    "\n",
    "from sklearn.metrics import accuracy_score, average_precision_score\n",
    "\n",
    "import matplotlib.pyplot as plt\n",
    "import pandas as pd\n",
    "\n",
    "device = torch.device('cuda') if torch.cuda.is_available else 'cpu'"
   ]
  },
  {
   "cell_type": "markdown",
   "id": "e380fc8e-f7d9-44b4-b69c-c5c1d1e79a59",
   "metadata": {},
   "source": [
    "First, we decide the classes. `.parts[-1]` gets out the last part in the directory, whilst `.iterdir()` iterates through directories, and `.is_dir()` sees to it, that it really is a directory."
   ]
  },
  {
   "cell_type": "code",
   "execution_count": 2,
   "id": "2bb678f4-9d26-43fc-9c32-4c2f8c0f4806",
   "metadata": {},
   "outputs": [
    {
     "data": {
      "text/plain": [
       "['forest', 'buildings', 'sea', 'glacier', 'mountain', 'street']"
      ]
     },
     "execution_count": 2,
     "metadata": {},
     "output_type": "execute_result"
    }
   ],
   "source": [
    "dataset = Path('/mnt/e/ml_projects/IN3310/2025/tut_data/mandatory1_data/')\n",
    "\n",
    "classes = [str(subdir.parts[-1]) for subdir in dataset.iterdir() if subdir.is_dir()]\n",
    "classes"
   ]
  },
  {
   "cell_type": "markdown",
   "id": "ac0a0a9a-6901-443c-bd5f-a8c3d2d3d68b",
   "metadata": {},
   "source": [
    "Then, we create directories for `train, val, test` in the root folder"
   ]
  },
  {
   "cell_type": "code",
   "execution_count": 3,
   "id": "0fd4883f-0afe-47fc-b2ab-881b8ce4193c",
   "metadata": {},
   "outputs": [],
   "source": [
    "base_path = Path('/mnt/e/ml_projects/IN3310/2025/tut_data/oblig1/')\n",
    "\n",
    "# the directories we want to create\n",
    "dirs = ['train', 'val', 'test']\n",
    "\n",
    "for dir_name in dirs:\n",
    "    # creating a path string\n",
    "    dir_path = base_path / dir_name\n",
    "    dir_path.mkdir(parents=True, exist_ok=True) # creating directory\n",
    "\n",
    "    # creating subdirectories of class names\n",
    "    for class_name in classes:\n",
    "        class_path = base_path / dir_name / class_name\n",
    "        class_path.mkdir(parents=True, exist_ok=True)"
   ]
  },
  {
   "cell_type": "markdown",
   "id": "50850386-5c69-4b13-8f4d-a280eb732d11",
   "metadata": {},
   "source": [
    "Now we need to split the data into train, test, vals. A good way of doing this is to use `train_test_split` of the filenames and classes, and then fill our folders up."
   ]
  },
  {
   "cell_type": "code",
   "execution_count": 4,
   "id": "5c35411d-187a-4f13-81f1-161bc1d65d16",
   "metadata": {},
   "outputs": [],
   "source": [
    "img_paths = [] # container for image paths\n",
    "class_indices = [] # container for class indices\n",
    "\n",
    "for class_index, class_name in enumerate(classes):\n",
    "    class_path = dataset / class_name\n",
    "    for img_file in class_path.iterdir():\n",
    "        if img_file.is_file():\n",
    "            img_paths.append(img_file)\n",
    "            class_indices.append(class_index)"
   ]
  },
  {
   "cell_type": "code",
   "execution_count": 5,
   "id": "b8433620-194f-47fa-b52f-e2579578ddf7",
   "metadata": {},
   "outputs": [],
   "source": [
    "train_imgs, temp_imgs, train_indices, temp_indices = train_test_split(\n",
    "    img_paths, class_indices, test_size=0.3, stratify=class_indices, random_state=42\n",
    ")"
   ]
  },
  {
   "cell_type": "code",
   "execution_count": 6,
   "id": "2c0c73ca-affb-408f-b841-63fe01e876c1",
   "metadata": {},
   "outputs": [],
   "source": [
    "val_imgs, test_imgs, val_indices, test_indices = train_test_split(\n",
    "    temp_imgs, temp_indices, test_size=0.6, stratify=temp_indices, random_state=42\n",
    ")"
   ]
  },
  {
   "cell_type": "code",
   "execution_count": 7,
   "id": "4abcc291-cf10-4e39-b974-c3bd7c647fa7",
   "metadata": {},
   "outputs": [],
   "source": [
    "def copy_images(img_paths, class_indices, split_name):\n",
    "    \n",
    "    for img_path, class_index in zip(img_paths, class_indices):\n",
    "        target_dir = base_path / split_name / classes[class_index]\n",
    "        target_file = target_dir / img_path.name\n",
    "\n",
    "        # copying the file if it's not already there\n",
    "        if not target_file.exists():\n",
    "            shutil.copy(img_path, target_file)"
   ]
  },
  {
   "cell_type": "code",
   "execution_count": 8,
   "id": "5305f96b-6939-4b56-b1ce-11c3c2af73f6",
   "metadata": {},
   "outputs": [],
   "source": [
    "copy_images(train_imgs, train_indices, 'train')\n",
    "copy_images(val_imgs, val_indices, 'val')\n",
    "copy_images(test_imgs, test_indices, 'test')"
   ]
  },
  {
   "cell_type": "markdown",
   "id": "95f206b9-c2e8-4654-ab93-79dce611e88a",
   "metadata": {},
   "source": [
    "We now have folders with the data. Finally we can do a check for duplicates."
   ]
  },
  {
   "cell_type": "markdown",
   "id": "2f151c51",
   "metadata": {},
   "source": [
    "**Part b)** Create a solution to verify that the dataset splits are disjoint. Ensure that no file appears in more than one of your training, validation, or\n",
    "test sets."
   ]
  },
  {
   "cell_type": "code",
   "execution_count": 9,
   "id": "25d7c9e8-611f-48b2-b086-49637bc7503b",
   "metadata": {},
   "outputs": [],
   "source": [
    "def verify_no_duplicates(train_imgs, val_imgs, test_imgs):\n",
    "    train_set = set(train_imgs)\n",
    "    val_set = set(val_imgs)\n",
    "    test_set = set(test_imgs)\n",
    "\n",
    "    # using intersection to check for data overlaps\n",
    "    assert len(train_set.intersection(val_set)) == 0, 'Overlap between Train and Val'\n",
    "    assert len(train_set.intersection(test_set)) == 0, 'Overlap between Train and Test'\n",
    "    assert len(val_set.intersection(test_set)) == 0, 'Overlap between Val and Test'\n",
    "\n",
    "verify_no_duplicates(train_imgs, val_imgs, test_imgs)"
   ]
  },
  {
   "cell_type": "markdown",
   "id": "0ea8a0ee-1872-44ec-a549-1920ef618276",
   "metadata": {},
   "source": [
    "**Part c)** Develop and implement dataloaders for training, validation, and test sets. Please make one root path for the dataset, this makes it easier for us\n",
    "to check/debug your work. If there are multiple paths to the dataset that we need to change, it becomes tricky to change them all."
   ]
  },
  {
   "cell_type": "code",
   "execution_count": 10,
   "id": "346cb022-7f81-4364-bb36-a3147f831eee",
   "metadata": {},
   "outputs": [],
   "source": [
    "transform = transforms.Compose([\n",
    "    transforms.Resize((150, 150)),\n",
    "    transforms.ToTensor(), # converts to a torch tensor\n",
    "    transforms.Normalize((0.5,), (0.5,)) # normalizes to [-1, 1]\n",
    "])\n",
    "\n",
    "augment_transform = transforms.Compose([\n",
    "    transforms.Resize((150, 150)),\n",
    "    transforms.RandomHorizontalFlip(p=0.5),  # flipping image (P=50%)\n",
    "    transforms.RandomRotation(15),  # rotating ±15 degrees\n",
    "    transforms.RandomResizedCrop(150, scale=(0.8, 1.0)),  # cropping randomly and scaling\n",
    "    transforms.ColorJitter(brightness=0.2, contrast=0.2, saturation=0.2, hue=0.1),  # Endrer farger\n",
    "    transforms.ToTensor(),  \n",
    "    transforms.Normalize((0.5,), (0.5,))  \n",
    "])"
   ]
  },
  {
   "cell_type": "code",
   "execution_count": 11,
   "id": "1b10f1b7-b298-4310-9a6e-cb2afafbed73",
   "metadata": {},
   "outputs": [],
   "source": [
    "train_dataset = datasets.ImageFolder(root=base_path / 'train', transform=transform)\n",
    "train_dataset_augm = datasets.ImageFolder(root=base_path / 'train', transform=augment_transform)\n",
    "val_dataset = datasets.ImageFolder(root=base_path / 'val', transform=transform)\n",
    "test_dataset = datasets.ImageFolder(root=base_path / 'test', transform=transform)\n",
    "\n",
    "train_loader = DataLoader(train_dataset, batch_size=32, shuffle=True)\n",
    "train_loader_augm = DataLoader(train_dataset_augm, batch_size=32, shuffle=True)\n",
    "val_loader = DataLoader(val_dataset, batch_size=32, shuffle=False)\n",
    "test_loader = DataLoader(test_dataset, batch_size=32, shuffle=False)"
   ]
  },
  {
   "cell_type": "markdown",
   "id": "4fc20b69",
   "metadata": {},
   "source": [
    "2b) Use the dataloaders you created in Part 1 to feed\n",
    "the training data into the model of your choosing. Write code to perform the training process, ensuring that the model is optimized over the training data. Make sure to use the validation dataset to monitor performance during training. During training, monitor the model’s performance using accuracy on the validation set. This will give you an initial indication of how well your model is learning."
   ]
  },
  {
   "cell_type": "code",
   "execution_count": 40,
   "id": "df918022",
   "metadata": {},
   "outputs": [],
   "source": [
    "def evaluate_model(model, dataloader, class_names=None):\n",
    "    model.eval()  # Evalueringsmodus\n",
    "\n",
    "    all_preds, all_labels, all_probs = [], [], []\n",
    "\n",
    "    with torch.no_grad():\n",
    "        for images, labels in dataloader:\n",
    "            images, labels = images.to(device), labels.to(device)\n",
    "            outputs = model(images)\n",
    "\n",
    "            probs = torch.softmax(outputs, dim=1)\n",
    "            _, preds = torch.max(outputs, 1)\n",
    "\n",
    "            all_preds.append(preds.cpu())\n",
    "            all_labels.append(labels.cpu())\n",
    "            all_probs.append(probs.cpu())\n",
    "\n",
    "    all_preds = torch.cat(all_preds)\n",
    "    all_labels = torch.cat(all_labels)\n",
    "    all_probs = torch.cat(all_probs)\n",
    "\n",
    "    accuracy = accuracy_score(all_labels, all_preds)\n",
    "\n",
    "    ap_scores = []\n",
    "    class_accs = []\n",
    "    num_classes = all_probs.shape[1]\n",
    "\n",
    "    for i in range(all_probs.shape[1]):\n",
    "        binary_labels = (all_labels == i).float()\n",
    "        ap = average_precision_score(binary_labels.cpu().numpy(), all_probs[:, i].cpu().numpy())\n",
    "        ap_scores.append(ap)\n",
    "\n",
    "        class_correct = ((all_preds == i) & (all_labels == i)).sum().item()\n",
    "        class_total = (all_labels == i).sum().item()\n",
    "        class_accuracy = class_correct / class_total if class_total > 0 else 0\n",
    "        class_accs.append(class_accuracy)\n",
    "\n",
    "        class_results = \" | \".join(\n",
    "            [f\"{class_names[i] if class_names else f'Class {i}'}: Acc={class_accs[i]:.4f}, AP={ap_scores[i]:.4f}\" \n",
    "             for i in range(len(ap_scores))]\n",
    "        )\n",
    "        \n",
    "    print(class_results)\n",
    "    map_score = sum(ap_scores) / len(ap_scores)\n",
    "    \n",
    "    return accuracy, ap_scores, map_score, class_accs"
   ]
  },
  {
   "cell_type": "code",
   "execution_count": 41,
   "id": "2e40eb08",
   "metadata": {},
   "outputs": [],
   "source": [
    "def train_model(model, train_loader, val_loader, criterion, optimizer, num_epochs=10, early_stopping=5):\n",
    "    model = model.to(device)\n",
    "\n",
    "    train_accs, val_accs, map_scores, class_accs = [], [], [], []\n",
    "    best_map_score = 0.0\n",
    "    epochs_no_improvement = 0\n",
    "\n",
    "    for epoch in range(num_epochs):\n",
    "        model.train()  # Treningsmodus\n",
    "        running_loss, correct, total = 0.0, 0, 0\n",
    "\n",
    "        for images, labels in train_loader:\n",
    "            images, labels = images.to(device), labels.to(device)\n",
    "\n",
    "            optimizer.zero_grad()\n",
    "            outputs = model(images)\n",
    "            loss = criterion(outputs, labels)\n",
    "            loss.backward()\n",
    "            optimizer.step()\n",
    "\n",
    "            running_loss += loss.item()\n",
    "            _, preds = torch.max(outputs, 1)\n",
    "            correct += (preds == labels).sum().item()\n",
    "            total += labels.size(0)\n",
    "\n",
    "        train_accuracy = correct / total\n",
    "        val_accuracy, _, map_score, class_acc = evaluate_model(model, val_loader)\n",
    "\n",
    "        train_accs.append(train_accuracy)\n",
    "        val_accs.append(val_accuracy)\n",
    "        map_scores.append(map_score)\n",
    "        class_accs.append(class_acc)\n",
    "\n",
    "        if map_score > best_map_score:\n",
    "            torch.save(model.state_dict(), \"resnet_best.pth\")\n",
    "            print(f\"Epoch {epoch+1}/{num_epochs}, Train Acc: {train_accuracy:.4f}, Val Acc: {val_accuracy:.4f}, mAP: {map_score:.4f} - Model Saved\")\n",
    "            best_map_score = map_score\n",
    "            epochs_no_improvement = 0\n",
    "\n",
    "        else:\n",
    "            print(f\"Epoch {epoch+1}/{num_epochs}, Train Acc: {train_accuracy:.4f}, Val Acc: {val_accuracy:.4f}, mAP: {map_score:.4f}\")\n",
    "            epochs_no_improvement += 1\n",
    "\n",
    "        if epochs_no_improvement > early_stopping:\n",
    "            print(\"Early stopping!\")\n",
    "            break\n",
    "\n",
    "    return train_accs, val_accs, map_scores, class_accs\n"
   ]
  },
  {
   "cell_type": "code",
   "execution_count": 42,
   "id": "f4ab9481",
   "metadata": {},
   "outputs": [
    {
     "name": "stdout",
     "output_type": "stream",
     "text": [
      "Class 0: Acc=0.6329, AP=0.7564 | Class 1: Acc=0.7720, AP=0.9353 | Class 2: Acc=0.7014, AP=0.6076 | Class 3: Acc=0.8104, AP=0.6891 | Class 4: Acc=0.2455, AP=0.6634 | Class 5: Acc=0.8006, AP=0.8144\n",
      "Epoch 1/15, Train Acc: 0.5823, Val Acc: 0.6639, mAP: 0.7444 - Model Saved\n",
      "Class 0: Acc=0.9684, AP=0.6067 | Class 1: Acc=0.5957, AP=0.8827 | Class 2: Acc=0.4310, AP=0.6585 | Class 3: Acc=0.0275, AP=0.4850 | Class 4: Acc=0.5210, AP=0.5373 | Class 5: Acc=0.4653, AP=0.7593\n",
      "Epoch 2/15, Train Acc: 0.7215, Val Acc: 0.4892, mAP: 0.6549\n",
      "Class 0: Acc=0.6772, AP=0.8349 | Class 1: Acc=0.9726, AP=0.9644 | Class 2: Acc=0.6394, AP=0.8064 | Class 3: Acc=0.8791, AP=0.7945 | Class 4: Acc=0.6946, AP=0.8755 | Class 5: Acc=0.5954, AP=0.8593\n",
      "Epoch 3/15, Train Acc: 0.7777, Val Acc: 0.7432, mAP: 0.8558 - Model Saved\n",
      "Class 0: Acc=0.8196, AP=0.8769 | Class 1: Acc=0.7964, AP=0.9717 | Class 2: Acc=0.5324, AP=0.7117 | Class 3: Acc=0.7473, AP=0.7768 | Class 4: Acc=0.9132, AP=0.8696 | Class 5: Acc=0.7948, AP=0.8995\n",
      "Epoch 4/15, Train Acc: 0.7968, Val Acc: 0.7642, mAP: 0.8510\n",
      "Class 0: Acc=0.6709, AP=0.8866 | Class 1: Acc=0.9422, AP=0.9822 | Class 2: Acc=0.8479, AP=0.8481 | Class 3: Acc=0.6484, AP=0.8268 | Class 4: Acc=0.8892, AP=0.8967 | Class 5: Acc=0.8584, AP=0.9237\n",
      "Epoch 5/15, Train Acc: 0.8145, Val Acc: 0.8087, mAP: 0.8940 - Model Saved\n",
      "Class 0: Acc=0.8861, AP=0.9015 | Class 1: Acc=0.9483, AP=0.9681 | Class 2: Acc=0.7634, AP=0.8733 | Class 3: Acc=0.7033, AP=0.8697 | Class 4: Acc=0.8802, AP=0.9234 | Class 5: Acc=0.7543, AP=0.8963\n",
      "Epoch 6/15, Train Acc: 0.8250, Val Acc: 0.8190, mAP: 0.9054 - Model Saved\n",
      "Class 0: Acc=0.7753, AP=0.8880 | Class 1: Acc=0.8511, AP=0.9784 | Class 2: Acc=0.8225, AP=0.8318 | Class 3: Acc=0.7308, AP=0.8266 | Class 4: Acc=0.8503, AP=0.8747 | Class 5: Acc=0.8526, AP=0.9192\n",
      "Epoch 7/15, Train Acc: 0.8370, Val Acc: 0.8131, mAP: 0.8865\n",
      "Class 0: Acc=0.8418, AP=0.9160 | Class 1: Acc=0.9392, AP=0.9900 | Class 2: Acc=0.7690, AP=0.8386 | Class 3: Acc=0.8516, AP=0.8562 | Class 4: Acc=0.7036, AP=0.9158 | Class 5: Acc=0.8960, AP=0.9445\n",
      "Epoch 8/15, Train Acc: 0.8524, Val Acc: 0.8332, mAP: 0.9102 - Model Saved\n",
      "Class 0: Acc=0.9114, AP=0.9007 | Class 1: Acc=0.7295, AP=0.9626 | Class 2: Acc=0.8225, AP=0.8795 | Class 3: Acc=0.4863, AP=0.8074 | Class 4: Acc=0.8653, AP=0.8592 | Class 5: Acc=0.7457, AP=0.8651\n",
      "Epoch 9/15, Train Acc: 0.8565, Val Acc: 0.7554, mAP: 0.8791\n",
      "Class 0: Acc=0.7690, AP=0.9135 | Class 1: Acc=0.9331, AP=0.9865 | Class 2: Acc=0.8056, AP=0.8745 | Class 3: Acc=0.8324, AP=0.8554 | Class 4: Acc=0.8353, AP=0.9027 | Class 5: Acc=0.9249, AP=0.9427\n",
      "Epoch 10/15, Train Acc: 0.8589, Val Acc: 0.8503, mAP: 0.9126 - Model Saved\n",
      "Class 0: Acc=0.9462, AP=0.8654 | Class 1: Acc=0.8176, AP=0.9611 | Class 2: Acc=0.7296, AP=0.8713 | Class 3: Acc=0.6099, AP=0.8417 | Class 4: Acc=0.9401, AP=0.9204 | Class 5: Acc=0.6618, AP=0.9163\n",
      "Epoch 11/15, Train Acc: 0.8746, Val Acc: 0.7789, mAP: 0.8960\n",
      "Class 0: Acc=0.8703, AP=0.9290 | Class 1: Acc=0.9453, AP=0.9807 | Class 2: Acc=0.8873, AP=0.9009 | Class 3: Acc=0.7115, AP=0.8912 | Class 4: Acc=0.8862, AP=0.9493 | Class 5: Acc=0.8439, AP=0.9501\n",
      "Epoch 12/15, Train Acc: 0.8752, Val Acc: 0.8552, mAP: 0.9335 - Model Saved\n",
      "Class 0: Acc=0.9209, AP=0.9257 | Class 1: Acc=0.9696, AP=0.9889 | Class 2: Acc=0.7803, AP=0.8981 | Class 3: Acc=0.8297, AP=0.9076 | Class 4: Acc=0.9192, AP=0.9537 | Class 5: Acc=0.7717, AP=0.9382\n",
      "Epoch 13/15, Train Acc: 0.8841, Val Acc: 0.8625, mAP: 0.9354 - Model Saved\n",
      "Class 0: Acc=0.9082, AP=0.9353 | Class 1: Acc=0.9635, AP=0.9891 | Class 2: Acc=0.7408, AP=0.8763 | Class 3: Acc=0.8297, AP=0.8747 | Class 4: Acc=0.8743, AP=0.9414 | Class 5: Acc=0.8295, AP=0.9472\n",
      "Epoch 14/15, Train Acc: 0.8949, Val Acc: 0.8552, mAP: 0.9273\n",
      "Class 0: Acc=0.7722, AP=0.9232 | Class 1: Acc=0.9726, AP=0.9908 | Class 2: Acc=0.7606, AP=0.8931 | Class 3: Acc=0.8736, AP=0.9044 | Class 4: Acc=0.8922, AP=0.9544 | Class 5: Acc=0.9335, AP=0.9489\n",
      "Epoch 15/15, Train Acc: 0.9047, Val Acc: 0.8674, mAP: 0.9358 - Model Saved\n"
     ]
    }
   ],
   "source": [
    "criterion = nn.CrossEntropyLoss()\n",
    "model = ResNet(img_channels=3, num_layers=34, num_classes=len(classes))\n",
    "optimizer = optim.Adam(model.parameters(), lr=0.001)\n",
    "train_acc1, val_acc1, map_scores1, class_accs1 = train_model(model, train_loader, val_loader, criterion, optimizer, num_epochs=15)"
   ]
  },
  {
   "cell_type": "code",
   "execution_count": 44,
   "id": "ce05b582",
   "metadata": {},
   "outputs": [
    {
     "data": {
      "image/png": "[encoded data removed]",
      "text/plain": [
       "<Figure size 1000x500 with 1 Axes>"
      ]
     },
     "metadata": {},
     "output_type": "display_data"
    }
   ],
   "source": [
    "epochs = range(1, len(train_acc1) + 1)\n",
    "plt.figure(figsize=(10, 5))\n",
    "plt.plot(epochs, train_acc1, label=\"Train Accuracy\", marker=\"o\")\n",
    "plt.plot(epochs, val_acc1, label=\"Validation Accuracy\", marker=\"o\")\n",
    "plt.xlabel(\"Epoch\")\n",
    "plt.ylabel(\"Accuracy\")\n",
    "plt.title(\"Train vs. Validation Accuracy\")\n",
    "plt.legend()\n",
    "plt.grid(True)\n",
    "plt.show()"
   ]
  },
  {
   "cell_type": "code",
   "execution_count": null,
   "id": "24cea940",
   "metadata": {},
   "outputs": [],
   "source": []
  }
 ],
 "metadata": {
  "kernelspec": {
   "display_name": "Python (in3310)",
   "language": "python",
   "name": "in3310"
  },
  "language_info": {
   "codemirror_mode": {
    "name": "ipython",
    "version": 3
   },
   "file_extension": ".py",
   "mimetype": "text/x-python",
   "name": "python",
   "nbconvert_exporter": "python",
   "pygments_lexer": "ipython3",
   "version": "3.12.2"
  }
 },
 "nbformat": 4,
 "nbformat_minor": 5
}

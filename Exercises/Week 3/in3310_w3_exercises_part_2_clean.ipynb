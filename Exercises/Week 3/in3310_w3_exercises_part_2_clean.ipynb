{
 "cells": [
  {
   "cell_type": "markdown",
   "metadata": {
    "collapsed": true
   },
   "source": [
    "# Exercises week 3 part 2: Convolutions\n",
    "\n",
    "IN3310 / IN4310 - Machine Learning for Image Analysis"
   ]
  },
  {
   "cell_type": "markdown",
   "metadata": {},
   "source": [
    "---\n",
    "\n",
    "### Task 1: Convolution by hand\n",
    "\n",
    "You are given an input image (x), kernel (w) and bias (b). Your task is to evaluate the shaded pixel in the image after the convolution. The origin of the kernel is the shaded pixel. Use zero padding and do not rotate the kernel (so the value you compute is technically the cross-correlation result at this pixel location).\n",
    "\n",
    "<img src=\"images/x_w_b.png\" alt=\"Drawing\" style=\"width: 600px;\"/>"
   ]
  },
  {
   "cell_type": "markdown",
   "metadata": {},
   "source": [
    "---\n",
    "\n",
    "### Task 2: Implement function for convolution\n",
    "\n",
    "You shall implement a general function that convolves an image of $M$x$N$ pixels and $C$ channels ($C=3$ for an RGB image) with a filter kernel of size $M_k$x$N_k$. Apply the filter independently to all $C$ channels of the image.\n",
    "\n",
    "To compute the convolution result at location $[i,j,c]$, centre the filter kernel at location $[i,j,c]$ and multiply channel $c$ of the image and the filter at all locations where the filter overlaps with the image, and then sum the products. You shall first use 2 for-loops to compute this sum, and then use NumPy to compute it.\n",
    "\n",
    "To compute the convolution result of all pixels, you need to loop over all the pixel positions and channels, in this case three for loops over image height $M$, width $N$ and channels $C$.\n",
    "\n",
    "In this example, you shall compute the convolution only at those pixels where the filter kernel fits inside the image."
   ]
  },
  {
   "cell_type": "code",
   "execution_count": null,
   "metadata": {},
   "outputs": [],
   "source": [
    "import numpy as np\n",
    "from matplotlib import pyplot as plt\n",
    "import imageio\n",
    "import time\n",
    "\n",
    "plt.rcParams['figure.figsize'] = (14.0, 12.0)"
   ]
  },
  {
   "cell_type": "code",
   "execution_count": null,
   "metadata": {},
   "outputs": [],
   "source": [
    "def convolution_loops(image, kernel):\n",
    "  \"\"\"\n",
    "  Convolves a MxNxC image with a MkxNk kernel.\n",
    "  \"\"\"\n",
    "  out = np.zeros(image.shape)\n",
    "  \n",
    "  kernel = np.rot90(kernel, 2) # rotate 180 degrees to perform convolution (not correlation)\n",
    "  \n",
    "  raise NotImplementedError('Perform the convolution by looping over the filter kernel in addition to the 3 outer loops, and store the result in \\'out\\'.')\n",
    "  \n",
    "  return out"
   ]
  },
  {
   "cell_type": "markdown",
   "metadata": {},
   "source": [
    "You shall now implement a function that performs the same convolution, but instead of looping over the filter kernel, it should use either np.sum or np.dot. In the latter case, you should reshape the current subwindow and the filter into 1D vectors of length $N_k \\cdot M_k$ before using np.dot."
   ]
  },
  {
   "cell_type": "code",
   "execution_count": null,
   "metadata": {},
   "outputs": [],
   "source": [
    "def convolution(image, kernel):\n",
    "  \"\"\"\n",
    "  Convolves a MxNxC image with a MkxNk kernel.\n",
    "  \"\"\"\n",
    "  out = np.zeros(image.shape)\n",
    "  \n",
    "  kernel = np.rot90(kernel, 2) # rotate 180 degrees to perform convolution (not correlation)\n",
    "  \n",
    "  raise NotImplementedError('Perform the convolution by using np.sum or np.dot inside the 3 for-loops, and store the result in \\'out\\'.')\n",
    "  \n",
    "  return out"
   ]
  },
  {
   "cell_type": "code",
   "execution_count": null,
   "metadata": {},
   "outputs": [],
   "source": [
    "# Check that your implementations provide the same result for a small 2D image.\n",
    "f1 = np.arange(4)\n",
    "f2 = np.arange(5)\n",
    "f = f1[:, np.newaxis, np.newaxis] + f2[np.newaxis, :, np.newaxis]\n",
    "print(f[:,:,0])\n",
    "print(f.shape)\n",
    "\n",
    "h = np.arange(9).reshape(3, 3)\n",
    "print(h)\n",
    "print(h.shape)\n",
    "\n",
    "out1 = convolution_loops(f, h)\n",
    "print(out1[:,:,0])\n",
    "\n",
    "out2 = convolution(f, h)\n",
    "print(out2[:,:,0])"
   ]
  },
  {
   "cell_type": "code",
   "execution_count": null,
   "metadata": {},
   "outputs": [],
   "source": [
    "# Check that your implementations filter an image correctly.\n",
    "img = imageio.imread('images/cat.png').astype(np.float64)\n",
    "\n",
    "kernel = np.arange(25).reshape((5, 5))\n",
    "\n",
    "start = time.time()\n",
    "out1 = convolution_loops(img, kernel)\n",
    "print('Calculation time with inner loops:', time.time()-start, 'sec')\n",
    "\n",
    "start= time.time()\n",
    "out2 = convolution(img, kernel)\n",
    "print('Calculation time without inner loops:', time.time()-start, 'sec')\n",
    "\n",
    "out1 -= out1.min()\n",
    "out1 /= out1.max()\n",
    "out1 *= 255\n",
    "out1 = out1.astype(np.uint8)\n",
    "\n",
    "out2 -= out2.min()\n",
    "out2 /= out2.max()\n",
    "out2 *= 255\n",
    "out2 = out2.astype(np.uint8)\n",
    "\n",
    "correct = imageio.imread('images/convolution_cat.png')\n",
    "plt.figure()\n",
    "plt.subplot(1, 3, 1)\n",
    "plt.imshow(correct)\n",
    "plt.title('Correct')\n",
    "plt.subplot(1, 3, 2)\n",
    "plt.imshow(out1)\n",
    "plt.title('Max abs diff {}'.format(np.max(np.abs(correct-out1))))\n",
    "plt.subplot(1, 3, 3)\n",
    "plt.imshow(out2)\n",
    "plt.title('Max abs diff {}'.format(np.max(np.abs(correct-out2))))\n",
    "plt.show()"
   ]
  },
  {
   "cell_type": "markdown",
   "metadata": {},
   "source": [
    "---\n",
    "\n",
    "### Task 3: Implement blurring function\n",
    "\n",
    "You shall implement a function that use your convolution function to filter an image with an average filter (box filter) with kernel size of 11. The filter should have coefficients 1/(k_size*k_size)"
   ]
  },
  {
   "cell_type": "code",
   "execution_count": null,
   "metadata": {},
   "outputs": [],
   "source": [
    "def blur_filter(img):\n",
    "  \"\"\"\n",
    "  Blurs a MxNxC image with an average filter (box filter) with kernel size of 11.\n",
    "  \"\"\"\n",
    "  raise NotImplementedError('Perform the blurring and return the blurred image.')"
   ]
  },
  {
   "cell_type": "code",
   "execution_count": null,
   "metadata": {},
   "outputs": [],
   "source": [
    "# Check that your blurring implementation is correct.\n",
    "img = imageio.imread('images/cat.png').astype(np.float64)\n",
    "\n",
    "start = time.time()\n",
    "out = blur_filter(img)\n",
    "print('Calculation time:', time.time()-start, 'sec')\n",
    "\n",
    "out -= out.min()\n",
    "out /= out.max()\n",
    "out *= 255\n",
    "out = out.astype(np.uint8)\n",
    "\n",
    "correct = imageio.imread('images/blur_cat.png')\n",
    "plt.figure()\n",
    "plt.subplot(1, 2, 1)\n",
    "plt.imshow(correct)\n",
    "plt.title('Correct')\n",
    "plt.subplot(1, 2, 2)\n",
    "plt.imshow(out)\n",
    "plt.title('Max abs diff {}'.format(np.max(np.abs(correct-out))))\n",
    "plt.show()"
   ]
  },
  {
   "cell_type": "markdown",
   "metadata": {},
   "source": [
    "---\n",
    "\n",
    "### Task 4: Implement gradient magnitude function\n",
    "\n",
    "You shall implement a function that use your convolution function to filter an image with each Sobel kernel and then computes the gradient magnitude image. If the input image has multiple channels, then compute the gradient magnitude of each channel and take the maximum at each pixel location."
   ]
  },
  {
   "cell_type": "code",
   "execution_count": null,
   "metadata": {},
   "outputs": [],
   "source": [
    "def gradient_magnitude(img):\n",
    "  \"\"\"\n",
    "  Computes the gradient magnitude of a MxNxC image using the Sobel kernels.\n",
    "  \"\"\"\n",
    "  sobel_y = np.array([[1, 2, 1],\n",
    "                      [0, 0, 0],\n",
    "                      [-1, -2, -1]])\n",
    "  sobel_x = np.array([[1, 0, -1 ],\n",
    "                      [2, 0, -2],\n",
    "                      [1, 0, -1]])\n",
    "  raise NotImplementedError('Use your convolution function to compute the numerical partial derivatives using the Sobel kernels.')\n",
    "  raise NotImplementedError('Use the numerical partial derivatives to compute the gradient magnitude of each channel of the input image.')\n",
    "  raise NotImplementedError('Return the image which at each pixel location contains the maximum gradient magnitude of all channels.')"
   ]
  },
  {
   "cell_type": "code",
   "execution_count": null,
   "metadata": {},
   "outputs": [],
   "source": [
    "# Check that your gradient magnitude implementation is correct.\n",
    "img = imageio.imread('images/cat.png').astype(np.float64)\n",
    "\n",
    "start = time.time()\n",
    "out = gradient_magnitude(img)\n",
    "print('Calculation time:', time.time()-start, 'sec')\n",
    "\n",
    "out -= out.min()\n",
    "out /= out.max()\n",
    "out *= 255\n",
    "out = out.astype(np.uint8)\n",
    "\n",
    "correct = imageio.imread('images/sobel_cat.png')\n",
    "plt.figure()\n",
    "plt.subplot(1, 2, 1)\n",
    "plt.imshow(correct, cmap='gray')\n",
    "plt.title('Correct')\n",
    "plt.subplot(1, 2, 2)\n",
    "plt.imshow(out, cmap='gray')\n",
    "plt.title('Max abs diff {}'.format(np.max(np.abs(correct-out))))\n",
    "plt.show()"
   ]
  },
  {
   "cell_type": "markdown",
   "metadata": {},
   "source": [
    "---\n",
    "\n",
    "### Task 5: Implement gradient magnitude function using PyTorch\n",
    "\n",
    "You shall now implement a function that performs the same gradient magnitude computation, but instead of using your convolution function, it should use \\\"F.conv2d\\\" (\\\"torch.nn.functional\\\" is imported as \\\"F\\\").\n",
    "\n",
    "The formats of the inputs to \\\"F.conv2d\\\" are designed to be suitable for use in convolutional neural networks (although we would often call \\\"torch.nn.Conv2d\\\" in a \\\"torch.nn.Module\\\" class). The function therefore by default expects filters with a number of channel equal to the number of channels in the input image. To obtain a convolution result per channel of the input image, you should implement depthwise convolution, which you could do by specifying the \"group\" option of \\\"F.conv2d\\\" to the number of channels. Since we should be convolving all channels with the same filters, the Sobel kernels are in the code below repeated along the channel dimension to match the number of channels in the input image.\n",
    "\n",
    "By default \\\"F.conv2d\\\" does not pad and only computes the convolution result at pixels where the filter kernels fit inside the image. Do not change this default behaviour. The code below will zero-pad your convolution result with 1 pixel on both sides, which will make its output directly comparable to the output of your convolution function. (If instead using \\\"F.conv2d\\\" to pad, then we will get some non-zero values at the border of the convolution result, which makes sense in general, but you should not do it here because you were not asked to do it in your Python/NumPy convolution function.)"
   ]
  },
  {
   "cell_type": "code",
   "execution_count": null,
   "metadata": {},
   "outputs": [],
   "source": [
    "import torch\n",
    "import torch.nn as nn\n",
    "import torch.nn.functional as F\n",
    "\n",
    "def gradient_magnitude_torch(img):\n",
    "  \"\"\"\n",
    "  Computes the gradient magnitude of a MxNxC image using the Sobel kernels.\n",
    "  \"\"\"\n",
    "  device = torch.device('cpu')\n",
    "  channels = img.shape[2]\n",
    "  img_torch = torch.as_tensor(img, device=device).permute(2,0,1).unsqueeze(0)\n",
    "  sobel_y = torch.as_tensor([[1, 2, 1],\n",
    "                             [0, 0, 0],\n",
    "                            [-1, -2, -1]], dtype=torch.float64)\n",
    "  sobel_y = torch.rot90(sobel_y, 2).unsqueeze(0).unsqueeze(0).repeat(channels, 1, 1, 1)\n",
    "  sobel_x = torch.as_tensor([[1, 0, -1 ],\n",
    "                             [2, 0, -2],\n",
    "                             [1, 0, -1]], dtype=torch.float64)\n",
    "  sobel_x = torch.rot90(sobel_x, 2).unsqueeze(0).unsqueeze(0).repeat(channels, 1, 1, 1)\n",
    "  raise NotImplementedError('Use \\'F.conv2d\\' to compute the numerical partial derivatives using the Sobel kernels.')\n",
    "  raise NotImplementedError('Use the numerical partial derivatives to compute the gradient magnitude of each channel of the input image.')\n",
    "  raise NotImplementedError('Update \\'img_torch\\' to be the image which at each pixel location contains the maximum gradient magnitude of all channels.')\n",
    "  m = nn.ZeroPad2d(1)\n",
    "  return m(img_torch.squeeze()).cpu().data.numpy()"
   ]
  },
  {
   "cell_type": "code",
   "execution_count": null,
   "metadata": {},
   "outputs": [],
   "source": [
    "# Check that your gradient magnitude implementation is correct.\n",
    "img = imageio.imread('images/cat.png').astype(np.float64)\n",
    "\n",
    "start = time.time()\n",
    "out = gradient_magnitude_torch(img)\n",
    "print('Calculation time:', time.time()-start, 'sec')\n",
    "\n",
    "out -= out.min()\n",
    "out /= out.max()\n",
    "out *= 255\n",
    "out = out.astype(np.uint8)\n",
    "\n",
    "correct = imageio.imread('images/sobel_cat.png')\n",
    "plt.figure()\n",
    "plt.subplot(1, 2, 1)\n",
    "plt.imshow(correct, cmap='gray')\n",
    "plt.title('Correct')\n",
    "plt.subplot(1, 2, 2)\n",
    "plt.imshow(out, cmap='gray')\n",
    "plt.title('Max abs diff {}'.format(np.max(np.abs(correct-out))))\n",
    "plt.show()"
   ]
  }
 ],
 "metadata": {
  "kernelspec": {
   "display_name": "Python 3",
   "language": "python",
   "name": "python3"
  },
  "language_info": {
   "codemirror_mode": {
    "name": "ipython",
    "version": 3
   },
   "file_extension": ".py",
   "mimetype": "text/x-python",
   "name": "python",
   "nbconvert_exporter": "python",
   "pygments_lexer": "ipython3",
   "version": "3.8.5"
  }
 },
 "nbformat": 4,
 "nbformat_minor": 2
}

{
 "cells": [
  {
   "cell_type": "markdown",
   "metadata": {},
   "source": [
    "# Exercises week 3 part 3: Basics related to convolutional neural network\n",
    "\n",
    "IN3310 / IN4310 - Machine Learning for Image Analysis"
   ]
  },
  {
   "cell_type": "markdown",
   "metadata": {},
   "source": [
    "---\n",
    "\n",
    "### Task 1: Calculate the theoretical receptive field\n",
    "\n",
    "You shall implement the function \\\"receptive_field\\\" and use it to calculate the theoretical receptive field for each layer of 5 different convolutional neural network architectures:\n",
    "\n",
    "<img src=\"images/receptive_field2.png\" alt=\"Drawing\" style=\"width: 600px;\"/>\n",
    "\n",
    "You can apply this equation to compute the receptive field:\n",
    "\n",
    "$$R^{[k]} = R^{[k-1]} + \\bigg[ (F^{[k]} -1)\\cdot \\prod_{i=1}^{k-1} S^{[i]} \\bigg] $$\n",
    "\n",
    "where:\n",
    "\n",
    "- Receptive field: 𝑅\n",
    "- Filter size: 𝐹\n",
    "- Stride: S\n",
    "- Layer index: 𝑘\n",
    "- $R^{[0]}=1$ Receptive field of input data\n",
    "\n",
    "<b>Note:</b> The superscripted number in brackets specifies the layer index.\n",
    "\n",
    "You might find this function useful later. The theoretical receptive field should be considered in light of the image size (pixel resolution) and the size of the objects of interest."
   ]
  },
  {
   "cell_type": "code",
   "execution_count": null,
   "metadata": {},
   "outputs": [],
   "source": [
    "import numpy as np\n",
    "import matplotlib.pyplot as plt\n",
    "import time\n",
    "%matplotlib inline"
   ]
  },
  {
   "cell_type": "code",
   "execution_count": null,
   "metadata": {},
   "outputs": [],
   "source": [
    "def receptive_field(f, s):\n",
    "    # Computes the theoretical receptive field for each layer of a convolutional neural network.\n",
    "    \n",
    "    # Inputs:\n",
    "    # f (list): Filter size for each layer\n",
    "    # s (list): Stride for each layer\n",
    "    \n",
    "    # Output\n",
    "    # R: The calculated receptive field for each layer as a numpy array\n",
    "    \n",
    "    raise NotImplementedError('Compute and return the receptive field.')"
   ]
  },
  {
   "cell_type": "code",
   "execution_count": null,
   "metadata": {},
   "outputs": [],
   "source": [
    "# Compute theoretical receptive field for the architectures.\n",
    "\n",
    "# Architecture 1\n",
    "A1_filterSize = [3, 3, 3, 3, 3, 3]\n",
    "A1_stride     = [1, 1, 1, 1, 1, 1]\n",
    "A1_Recept     = receptive_field(A1_filterSize, A1_stride)\n",
    "print(A1_Recept)\n",
    "\n",
    "# Architecture 2\n",
    "A2_filterSize = [3, 3, 3, 3, 3, 3]\n",
    "A2_stride     = [2, 1, 2, 1, 2, 1]\n",
    "A2_Recept     = receptive_field(A2_filterSize, A2_stride)\n",
    "print(A2_Recept)\n",
    "\n",
    "# Architecture 3\n",
    "A3_filterSize = [3, 3, 3, 3, 3, 3]\n",
    "A3_stride     = [2, 2, 2, 2, 2, 2]\n",
    "A3_Recept     = receptive_field(A3_filterSize, A3_stride)\n",
    "print(A3_Recept)\n",
    "\n",
    "# Architecture 4\n",
    "A4_filterSize = [5, 5, 5, 5, 5, 5]\n",
    "A4_stride     = [1, 1, 1, 1, 1, 1]\n",
    "A4_Recept     = receptive_field(A4_filterSize, A4_stride)\n",
    "print(A4_Recept)\n",
    "\n",
    "# Architecture 5\n",
    "A5_filterSize = [5, 5, 5, 5, 5, 5]\n",
    "A5_stride     = [2, 1, 2, 1, 2, 1]\n",
    "A5_Recept     = receptive_field(A5_filterSize, A5_stride)\n",
    "print(A5_Recept)"
   ]
  },
  {
   "cell_type": "code",
   "execution_count": null,
   "metadata": {},
   "outputs": [],
   "source": [
    "plt.figure(figsize=(18, 16), dpi= 80, facecolor='w', edgecolor='k')\n",
    "ax = plt.subplot(1, 1, 1)\n",
    "plt.plot(A1_Recept, 'r', label='Architecture 1')\n",
    "plt.plot(A2_Recept, 'b', label='Architecture 2')\n",
    "plt.plot(A3_Recept, 'g', label='Architecture 3')\n",
    "plt.plot(A4_Recept, 'k', label='Architecture 4')\n",
    "plt.plot(A5_Recept, 'm', label='Architecture 5')\n",
    "plt.ylabel('Receptive field (R)', fontsize=18)\n",
    "plt.xlabel('Layer $k$', fontsize=18)\n",
    "ax.grid()\n",
    "plt.ylim([0, 140])\n",
    "plt.xlim([0, 6])\n",
    "ax.legend(loc='upper left', fontsize=16)"
   ]
  },
  {
   "cell_type": "markdown",
   "metadata": {},
   "source": [
    "---\n",
    "\n",
    "### Task 2: Channel dimension of feature maps\n",
    "\n",
    "In a vanilla convolutional layer, how does the set of convolution filters affect the number of channels in the resulting feature map?"
   ]
  },
  {
   "cell_type": "markdown",
   "metadata": {},
   "source": [
    "---\n",
    "\n",
    "### Task 3: Spatial size of the activation map \n",
    "\n",
    "Given an activation map with shape $[N_c=128, N_h=225, N_w=225]$ and a kernel with shape $[F_c=128, F_h=5, F_w=5 ]$, what will the spatial size of the next layer's activation map be if we pad with $P=2$ and use stride of $S=2$?"
   ]
  }
 ],
 "metadata": {
  "anaconda-cloud": {},
  "kernelspec": {
   "display_name": "Python 3",
   "language": "python",
   "name": "python3"
  },
  "language_info": {
   "codemirror_mode": {
    "name": "ipython",
    "version": 3
   },
   "file_extension": ".py",
   "mimetype": "text/x-python",
   "name": "python",
   "nbconvert_exporter": "python",
   "pygments_lexer": "ipython3",
   "version": "3.8.5"
  }
 },
 "nbformat": 4,
 "nbformat_minor": 1
}

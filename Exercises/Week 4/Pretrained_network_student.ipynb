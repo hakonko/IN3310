{
  "cells": [
    {
      "cell_type": "code",
      "execution_count": 1,
      "metadata": {
        "id": "Gr5pWTruS-mC"
      },
      "outputs": [],
      "source": [
        "import torch\n",
        "import os\n",
        "import matplotlib.pyplot as plt\n",
        "from torch.utils.data import Dataset, DataLoader\n",
        "from torchvision import transforms\n",
        "from PIL import Image\n",
        "from getimagenetclasses import parseclasslabel, parsesynsetwords, get_classes\n",
        "# Try other models https://pytorch.org/vision/stable/models.html\n",
        "from torchvision.models import resnet18"
      ]
    },
    {
      "cell_type": "code",
      "execution_count": 2,
      "metadata": {
        "id": "3dYBjdkSTX-I"
      },
      "outputs": [],
      "source": [
        "class ImageNet2500(Dataset):\n",
        "    def __init__(self, root_dir, xmllabeldir, synsetfile, images_dir, transform=None):\n",
        "\n",
        "        \"\"\"\n",
        "    Args:\n",
        "\n",
        "        root_dir (string): Directory with all the images.\n",
        "        transform (callable, optional): Optional transform to be applied\n",
        "            on a sample.\n",
        "    \"\"\"\n",
        "\n",
        "        self.root_dir = root_dir\n",
        "        self.xmllabeldir = root_dir + xmllabeldir\n",
        "        self.images_dir = root_dir + images_dir\n",
        "        self.transform = transform\n",
        "        self.imgfilenames = []\n",
        "        self.labels = []\n",
        "        self.ending = \".JPEG\"\n",
        "\n",
        "        indicestosynsets, self.synsetstoindices, synsetstoclassdescr = parsesynsetwords(root_dir + synsetfile)\n",
        "\n",
        "        for file in os.listdir(self.images_dir):\n",
        "            if file.endswith(\".JPEG\"):\n",
        "                #name = os.path.join(images_dir, file)\n",
        "                self.imgfilenames.append(file)\n",
        "\n",
        "\n",
        "    def filenametoxml(self, fn):\n",
        "        f = os.path.basename(fn)\n",
        "\n",
        "        if not f.endswith(self.ending):\n",
        "            print('not f.endswith(self.ending)')\n",
        "            exit()\n",
        "\n",
        "        f = f[:-len(self.ending)] + '.xml'\n",
        "        f = os.path.join(self.xmllabeldir, f)\n",
        "\n",
        "        return f\n",
        "    \n",
        "    def resize_and_crop(self, img, s=224, crop=True):\n",
        "            width, height = img.size\n",
        "            \n",
        "            # Rescale smallest side to s\n",
        "            if width > height:\n",
        "                img = img.resize((int(s*(width/height)), int(s)))\n",
        "            else:\n",
        "                img = img.resize((int(s), int(s*(height/width))))\n",
        "\n",
        "            if crop:\n",
        "            # Center-cropping to (s x s)\n",
        "                left = (img.size[0] - s) // 2\n",
        "                top = (img.size[1] - s) // 2\n",
        "\n",
        "                coords = (left, top, left+s, top+s)\n",
        "                img = img.crop(coords)\n",
        "        \n",
        "            return img\n",
        "\n",
        "    def __len__(self):\n",
        "        # todo: return the number of samples in the dataset\n",
        "        return len(self.imgfilenames)\n",
        "\n",
        "    def __getitem__(self, idx):\n",
        "        #  todo: load the image of index idx, transform it using the appropriate transforms and return it along with its\n",
        "        #  label\n",
        "        if torch.is_tensor(idx):\n",
        "            idx = idx.tolist()\n",
        "\n",
        "        img_name = os.path.join(self.images_dir, self.imgfilenames[idx])\n",
        "        image = Image.open(img_name).convert(\"RGB\")\n",
        "        \n",
        "        image = self.resize_and_crop(img=image, s=224, crop=True)\n",
        "\n",
        "        if self.transform:\n",
        "            image = self.transform(image)\n",
        "\n",
        "        label, _ = parseclasslabel(self.filenametoxml(self.imgfilenames[idx]), self.synsetstoindices)\n",
        "        #self.labels.append(label)\n",
        "\n",
        "        return image, label"
      ]
    },
    {
      "cell_type": "code",
      "execution_count": 3,
      "metadata": {
        "id": "6SnQSkUSTaop"
      },
      "outputs": [],
      "source": [
        "def run_model(model, dataloader):\n",
        "    pred = torch.Tensor()\n",
        "    lbls = torch.Tensor()\n",
        "\n",
        "    for batch_idx, (images, labels) in enumerate(dataloader):\n",
        "        outputs = model(images)\n",
        "\n",
        "        pred = torch.cat((pred, outputs), dim=0)\n",
        "        lbls = torch.cat((lbls, labels), dim=0)\n",
        "\n",
        "    return pred, lbls\n"
      ]
    },
    {
      "cell_type": "code",
      "execution_count": 4,
      "metadata": {
        "id": "1_IpmVGbTewk"
      },
      "outputs": [],
      "source": [
        "def plot_example(indx, model, dataset):\n",
        "    sample = dataset[indx]\n",
        "    plt.imshow(sample[\"image\"].permute(1, 2, 0))\n",
        "    plt.show()\n",
        "    # im = transforms.ToPILImage()(sample[\"image\"])\n",
        "    # im.show()\n",
        "    prediction = model(sample[\"image\"].unsqueeze(0)).detach().numpy()[0]\n",
        "    ind = prediction.argsort()[-5:][::-1]\n",
        "    print(\"Top-5 predicted levels:\\n\")\n",
        "    for key in ind:\n",
        "        print(get_classes().get(key))\n",
        "\n",
        "    print(\"\\nTrue label \", get_classes()[sample[\"label\"]])\n"
      ]
    },
    {
      "cell_type": "code",
      "execution_count": 5,
      "metadata": {
        "id": "rkNUH-e7ThqD"
      },
      "outputs": [],
      "source": [
        "def compare_performance(model, loader_wo_normalize, loader_w_normalize):\n",
        "    # predictions and labels from dataset without normalization\n",
        "    preds, labels = run_model(model, loader_wo_normalize)\n",
        "    # predictions and labels from dataset with normalization (labels are the same as before)\n",
        "    preds_norm, _ = run_model(model, loader_w_normalize)\n",
        "\n",
        "    #  todo: calculate the accuracy when using normalized data and when using un-normalized data\n",
        "    acc = None\n",
        "    acc_norm = None\n",
        "\n",
        "    print(\"Accuracy without normalize: \", acc)\n",
        "    print(\"Accuracy with normalize: \", acc_norm)\n"
      ]
    },
    {
      "cell_type": "code",
      "execution_count": 6,
      "metadata": {
        "id": "2SyDBTd2Tju3"
      },
      "outputs": [],
      "source": [
        "main_path = \"/mnt/e/ml_projects/IN3310/2025/exercise_data/week4_files/\"\n",
        "# These files/folders should be inside the main_path directory, i.e.\n",
        "# ../solution /\n",
        "# ├── ILSVRC2012_bbox_val_v3 /\n",
        "# │   └── val /\n",
        "# ├── imagenet2500 /\n",
        "# │   └── imagespart /\n",
        "# ├── getimagenetclasses.py\n",
        "# └── synset_words.txt\n",
        "\n",
        "xmllabeldir = \"ILSVRC2012_bbox_val_v3/val/\"\n",
        "synsetfile = 'synset_words.txt'\n",
        "images_dir = \"imagenet2500/imagespart\"\n",
        "\n",
        "#  https://pytorch.org/vision/main/generated/torchvision.transforms.Compose.html\n",
        "base_transform = transforms.Compose([\n",
        "    transforms.ToTensor()\n",
        "    #  use the appropriate transforms\n",
        "])\n",
        "\n",
        "normalize_transform = transforms.Compose([\n",
        "    transforms.ToTensor(),\n",
        "    transforms.Normalize(mean=[0.485, 0.456, 0.406], std=[0.229, 0.224, 0.225])\n",
        "    #  use the appropriate transforms in addition to normalization\n",
        "    #  use these statistics for normalization:\n",
        "    #  mean: [0.485, 0.456, 0.406], std_dev: [0.229, 0.224, 0.225]\n",
        "])\n",
        "\n",
        "#  todo: create a dataset and a dataloader without the normalization\n",
        "dataset_wo_normalize = ImageNet2500(root_dir=main_path, \n",
        "                                    xmllabeldir=xmllabeldir, \n",
        "                                    synsetfile=synsetfile, \n",
        "                                    images_dir=images_dir, \n",
        "                                    transform=base_transform)\n",
        "loader_wo_normalize = DataLoader(dataset_wo_normalize, batch_size=23, shuffle=True)\n",
        "\n",
        "#  todo: create a dataset and a dataloader **with** normalization\n",
        "dataset_w_normalize = ImageNet2500(root_dir=main_path, \n",
        "                                    xmllabeldir=xmllabeldir, \n",
        "                                    synsetfile=synsetfile, \n",
        "                                    images_dir=images_dir, \n",
        "                                    transform=normalize_transform)\n",
        "loader_w_normalize = DataLoader(dataset_w_normalize, batch_size=23, shuffle=True)\n"
      ]
    },
    {
      "cell_type": "code",
      "execution_count": 7,
      "metadata": {
        "id": "_br_-k6sTpby"
      },
      "outputs": [
        {
          "name": "stderr",
          "output_type": "stream",
          "text": [
            "/mnt/e/ml_projects/in3310/lib/python3.12/site-packages/torchvision/models/_utils.py:208: UserWarning: The parameter 'pretrained' is deprecated since 0.13 and may be removed in the future, please use 'weights' instead.\n",
            "  warnings.warn(\n",
            "/mnt/e/ml_projects/in3310/lib/python3.12/site-packages/torchvision/models/_utils.py:223: UserWarning: Arguments other than a weight enum or `None` for 'weights' are deprecated since 0.13 and may be removed in the future. The current behavior is equivalent to passing `weights=ResNet18_Weights.IMAGENET1K_V1`. You can also use `weights=ResNet18_Weights.DEFAULT` to get the most up-to-date weights.\n",
            "  warnings.warn(msg)\n"
          ]
        },
        {
          "data": {
            "text/plain": [
              "ResNet(\n",
              "  (conv1): Conv2d(3, 64, kernel_size=(7, 7), stride=(2, 2), padding=(3, 3), bias=False)\n",
              "  (bn1): BatchNorm2d(64, eps=1e-05, momentum=0.1, affine=True, track_running_stats=True)\n",
              "  (relu): ReLU(inplace=True)\n",
              "  (maxpool): MaxPool2d(kernel_size=3, stride=2, padding=1, dilation=1, ceil_mode=False)\n",
              "  (layer1): Sequential(\n",
              "    (0): BasicBlock(\n",
              "      (conv1): Conv2d(64, 64, kernel_size=(3, 3), stride=(1, 1), padding=(1, 1), bias=False)\n",
              "      (bn1): BatchNorm2d(64, eps=1e-05, momentum=0.1, affine=True, track_running_stats=True)\n",
              "      (relu): ReLU(inplace=True)\n",
              "      (conv2): Conv2d(64, 64, kernel_size=(3, 3), stride=(1, 1), padding=(1, 1), bias=False)\n",
              "      (bn2): BatchNorm2d(64, eps=1e-05, momentum=0.1, affine=True, track_running_stats=True)\n",
              "    )\n",
              "    (1): BasicBlock(\n",
              "      (conv1): Conv2d(64, 64, kernel_size=(3, 3), stride=(1, 1), padding=(1, 1), bias=False)\n",
              "      (bn1): BatchNorm2d(64, eps=1e-05, momentum=0.1, affine=True, track_running_stats=True)\n",
              "      (relu): ReLU(inplace=True)\n",
              "      (conv2): Conv2d(64, 64, kernel_size=(3, 3), stride=(1, 1), padding=(1, 1), bias=False)\n",
              "      (bn2): BatchNorm2d(64, eps=1e-05, momentum=0.1, affine=True, track_running_stats=True)\n",
              "    )\n",
              "  )\n",
              "  (layer2): Sequential(\n",
              "    (0): BasicBlock(\n",
              "      (conv1): Conv2d(64, 128, kernel_size=(3, 3), stride=(2, 2), padding=(1, 1), bias=False)\n",
              "      (bn1): BatchNorm2d(128, eps=1e-05, momentum=0.1, affine=True, track_running_stats=True)\n",
              "      (relu): ReLU(inplace=True)\n",
              "      (conv2): Conv2d(128, 128, kernel_size=(3, 3), stride=(1, 1), padding=(1, 1), bias=False)\n",
              "      (bn2): BatchNorm2d(128, eps=1e-05, momentum=0.1, affine=True, track_running_stats=True)\n",
              "      (downsample): Sequential(\n",
              "        (0): Conv2d(64, 128, kernel_size=(1, 1), stride=(2, 2), bias=False)\n",
              "        (1): BatchNorm2d(128, eps=1e-05, momentum=0.1, affine=True, track_running_stats=True)\n",
              "      )\n",
              "    )\n",
              "    (1): BasicBlock(\n",
              "      (conv1): Conv2d(128, 128, kernel_size=(3, 3), stride=(1, 1), padding=(1, 1), bias=False)\n",
              "      (bn1): BatchNorm2d(128, eps=1e-05, momentum=0.1, affine=True, track_running_stats=True)\n",
              "      (relu): ReLU(inplace=True)\n",
              "      (conv2): Conv2d(128, 128, kernel_size=(3, 3), stride=(1, 1), padding=(1, 1), bias=False)\n",
              "      (bn2): BatchNorm2d(128, eps=1e-05, momentum=0.1, affine=True, track_running_stats=True)\n",
              "    )\n",
              "  )\n",
              "  (layer3): Sequential(\n",
              "    (0): BasicBlock(\n",
              "      (conv1): Conv2d(128, 256, kernel_size=(3, 3), stride=(2, 2), padding=(1, 1), bias=False)\n",
              "      (bn1): BatchNorm2d(256, eps=1e-05, momentum=0.1, affine=True, track_running_stats=True)\n",
              "      (relu): ReLU(inplace=True)\n",
              "      (conv2): Conv2d(256, 256, kernel_size=(3, 3), stride=(1, 1), padding=(1, 1), bias=False)\n",
              "      (bn2): BatchNorm2d(256, eps=1e-05, momentum=0.1, affine=True, track_running_stats=True)\n",
              "      (downsample): Sequential(\n",
              "        (0): Conv2d(128, 256, kernel_size=(1, 1), stride=(2, 2), bias=False)\n",
              "        (1): BatchNorm2d(256, eps=1e-05, momentum=0.1, affine=True, track_running_stats=True)\n",
              "      )\n",
              "    )\n",
              "    (1): BasicBlock(\n",
              "      (conv1): Conv2d(256, 256, kernel_size=(3, 3), stride=(1, 1), padding=(1, 1), bias=False)\n",
              "      (bn1): BatchNorm2d(256, eps=1e-05, momentum=0.1, affine=True, track_running_stats=True)\n",
              "      (relu): ReLU(inplace=True)\n",
              "      (conv2): Conv2d(256, 256, kernel_size=(3, 3), stride=(1, 1), padding=(1, 1), bias=False)\n",
              "      (bn2): BatchNorm2d(256, eps=1e-05, momentum=0.1, affine=True, track_running_stats=True)\n",
              "    )\n",
              "  )\n",
              "  (layer4): Sequential(\n",
              "    (0): BasicBlock(\n",
              "      (conv1): Conv2d(256, 512, kernel_size=(3, 3), stride=(2, 2), padding=(1, 1), bias=False)\n",
              "      (bn1): BatchNorm2d(512, eps=1e-05, momentum=0.1, affine=True, track_running_stats=True)\n",
              "      (relu): ReLU(inplace=True)\n",
              "      (conv2): Conv2d(512, 512, kernel_size=(3, 3), stride=(1, 1), padding=(1, 1), bias=False)\n",
              "      (bn2): BatchNorm2d(512, eps=1e-05, momentum=0.1, affine=True, track_running_stats=True)\n",
              "      (downsample): Sequential(\n",
              "        (0): Conv2d(256, 512, kernel_size=(1, 1), stride=(2, 2), bias=False)\n",
              "        (1): BatchNorm2d(512, eps=1e-05, momentum=0.1, affine=True, track_running_stats=True)\n",
              "      )\n",
              "    )\n",
              "    (1): BasicBlock(\n",
              "      (conv1): Conv2d(512, 512, kernel_size=(3, 3), stride=(1, 1), padding=(1, 1), bias=False)\n",
              "      (bn1): BatchNorm2d(512, eps=1e-05, momentum=0.1, affine=True, track_running_stats=True)\n",
              "      (relu): ReLU(inplace=True)\n",
              "      (conv2): Conv2d(512, 512, kernel_size=(3, 3), stride=(1, 1), padding=(1, 1), bias=False)\n",
              "      (bn2): BatchNorm2d(512, eps=1e-05, momentum=0.1, affine=True, track_running_stats=True)\n",
              "    )\n",
              "  )\n",
              "  (avgpool): AdaptiveAvgPool2d(output_size=(1, 1))\n",
              "  (fc): Linear(in_features=512, out_features=1000, bias=True)\n",
              ")"
            ]
          },
          "execution_count": 7,
          "metadata": {},
          "output_type": "execute_result"
        }
      ],
      "source": [
        "# load a pretrained model of choice (see models in torchvision.models)\n",
        "model = resnet18(pretrained=True)\n",
        "# Set model to eval mode to use the learned-statistics instead of batch-statistics for batch_norm, and skip\n",
        "# training-only operations like dropout. Try removing this line and see how the model performs!\n",
        "model.eval()"
      ]
    },
    {
      "cell_type": "code",
      "execution_count": 8,
      "metadata": {
        "id": "UIBEzAkaTq0b"
      },
      "outputs": [
        {
          "ename": "",
          "evalue": "",
          "output_type": "error",
          "traceback": [
            "\u001b[1;31mThe Kernel crashed while executing code in the current cell or a previous cell. \n",
            "\u001b[1;31mPlease review the code in the cell(s) to identify a possible cause of the failure. \n",
            "\u001b[1;31mClick <a href='https://aka.ms/vscodeJupyterKernelCrash'>here</a> for more info. \n",
            "\u001b[1;31mView Jupyter <a href='command:jupyter.viewOutput'>log</a> for further details."
          ]
        }
      ],
      "source": [
        "compare_performance(model, loader_wo_normalize, loader_w_normalize)\n",
        "# change the index to check other examples\n",
        "plot_example(6, model, dataset_wo_normalize)"
      ]
    }
  ],
  "metadata": {
    "colab": {
      "provenance": []
    },
    "kernelspec": {
      "display_name": "Python (in3310)",
      "language": "python",
      "name": "in3310"
    },
    "language_info": {
      "codemirror_mode": {
        "name": "ipython",
        "version": 3
      },
      "file_extension": ".py",
      "mimetype": "text/x-python",
      "name": "python",
      "nbconvert_exporter": "python",
      "pygments_lexer": "ipython3",
      "version": "3.12.2"
    }
  },
  "nbformat": 4,
  "nbformat_minor": 0
}

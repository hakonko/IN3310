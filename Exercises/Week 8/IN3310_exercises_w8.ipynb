{
 "cells": [
  {
   "cell_type": "markdown",
   "metadata": {},
   "source": [
    "# IN3310 Week 8\n",
    "### haakongk\n",
    "### 1) Average Precision in Extreme Cases\n",
    "\n",
    "**a) Suppose the set used for evaluation consists of 11 samples of which 3 are actual positives. Those 3 have a *higher* prediction score for the positive class than the other 8 samples. What is the average precision?**\n",
    "\n",
    "**Average Precision** er et mål på kvaliteten til en *rangert liste* med prediksjoner. Den fanger opp rekkefølgen og nøyaktigheten. La:\n",
    "* $r_1, r_2, \\dots, r_N$ være rangeringen (etter score)\n",
    "* $y_i \\in \\{0, 1\\}$\n",
    "* $\\text{Precision@}k$ være andelen positive blant de $k$ første i rangeringen. Da:\n",
    "\n",
    "$$\\text{AP} = \\frac{1}{\\text{antall faktisk positive}}\\sum_{k=1}^{N} \\text{Precision}(k) \\cdot 1_{y_k = 1}$$\n",
    "\n",
    "La oss si at de tre **actual positives** ligger øverst i listen av prediksjoner, altså på plass $1, 2, 3$. Da vil vi få\n",
    "$$\\text{AP} = \\frac{1}{\\text{3}}\\sum_{k=1}^{11} \\text{Precision}(k) \\cdot 1_{y_k = 1} = \\frac{1}{3}\\cdot \\left(\\frac{1}{1} \\cdot 1.0 + \\frac{2}{2} \\cdot 1.0 + \\frac{3}{3} \\cdot 1.0\\right) = 1.0$$\n",
    "\n",
    "Vi blir altså belønnet for at de gode prediksjonene ligger tidlig i lista ved AP, at modellen finner dem raskt. **Hvorfor? Fordi vi ønsker et kvalitativt mål på hvor godt modellen prioriterer de faktiske positive over de negative. Det belønner tidlig presision, og krever ikke at datasettet er balansert.**\n",
    "\n",
    "**b) Suppose the set consists of 11 samples, of which 3 are actual positives. Those 3 have a *lower* prediction score for the positive class than the other 8 samples. What is the average precision?**\n",
    "\n",
    "Dersom de har lavere prediksjons-score vil de havne lenger ned i rangeringen som AP gjør. Dermed vil de bli straffet for dette, ved f.eks.\n",
    "\n",
    "$$\\text{AP} = \\frac{1}{\\text{3}}\\sum_{k=1}^{11} \\text{Precision}(k) \\cdot 1_{y_k = 1} = \\frac{1}{3}\\cdot \\left(\\frac{1}{11} \\cdot 1.0 + \\frac{2}{12} \\cdot 1.0 + \\frac{3}{13} \\cdot 1.0\\right) = 0.163$$\n",
    "\n",
    "**c) Suppose the set used for evaluation consists of $N$ samples, of which $R$ are actual positives, and those $R$ samples have *lower* prediction scores for the positive class than the other N - R samples. What is the average precision?**\n",
    "\n",
    "Her kan vi bruke formelen igjen, og sette inn for $R$ og $N$, slik at vi får en generell formel\n",
    "\n",
    "$$\\text{AP} = \\frac{1}{\\text{R}}\\sum_{k=1}^{N} \\text{Precision}(k) \\cdot 1_{y_k = 1} = \\frac{1}{R} \\sum_{j=1}^{R} \\frac{j}{N - R + j}$$"
   ]
  },
  {
   "cell_type": "markdown",
   "metadata": {},
   "source": [
    "### 2) Average Precision of Random Predictor\n",
    "\n",
    "Suppose the set used for evaluation consists of N samples, of which R are actual\n",
    "positives. A predictor is used to calculate prediction scores for the positive class\n",
    "for each sample.\n",
    "\n",
    "a) Assume the ranking of the scores evenly distributes the R actual positive sam-\n",
    "ples. More specifically, after sorting the samples by their scores in descending\n",
    "order and letting 1 be the first index (the sample with the highest score), as-\n",
    "sume that the first actual positive sample has index $\\frac{N}{R}$ (and that this is an\n",
    "integer), the second actual positive sample has index $\\frac{2N}{R}$ , and so on, making the $l$th actual positive sample appear at index $l\\frac{N}{R}$ and the last actual positive sample appears at index $R\\frac{N}{R} = R$. What is the average precision?\n",
    "* Hint 1: Calculate the precision at $k(P @k)$ for every index of an actual\n",
    "positive sample, i.e., for $k= l\\frac{N}{R}$ with $l = 1, 2, \\dots, R$.\n",
    "* Hint 2: It is possible to write the average precision without any summation.\n",
    "\n",
    "Precision $@ k$ er presisjonen blant de $k$ øverste rangerte elementene, altså $$P@k = \\frac{\\text{Antall sanne positive blant de k første}}{k},$$ mens average precision er gjennomsnittet av presisjonen ved alle plasseringer der det finnes en sann positiv. Altså $$AP = \\frac{1}{R}\\sum_{k \\in \\mathcal{K}} P@k,$$ hvor $R$ er antall sanne positive, $\\mathcal{K}$ er mengden indekser hvor det finnes en sann positiv (i rangeringen), og $P@k$ er presisjon ved posisjon $k$\n",
    "\n",
    "De sanne positive er plassert på $$k_l = \\frac{lN}{R}, \\text{ for } l = 1, 2, \\dots, R$$\n",
    "Da: $$P@k_l = \\frac{l}{l\\cdot\\frac{N}{R}} = \\frac{R}{N}$$\n",
    "$$AP = \\frac{1}{R}\\sum_{l=1}^R \\frac{R}{N} = \\frac{1}{R} \\cdot R \\cdot \\frac{R}{N} = \\frac{R}{N}$$"
   ]
  },
  {
   "cell_type": "markdown",
   "metadata": {},
   "source": [
    "**b)** Again, assume that the ranking of the scores evenly distributes the $R$ actual\n",
    "positive samples, but this time, the order is shifted such that the first actual\n",
    "positive sample has index 1. More specifically, after sorting the samples by\n",
    "their scores in descending order and letting 1 be the first index (the sample\n",
    "with highest score), the first actual positive sample has index 1, the second\n",
    "actual positive sample has index $1 + \\frac{N}{R}$ (and this is assumed to be an integer), and so on, making the $l$th actual positive sample appear at index $1 + (l− 1)\\frac{N}{R}$ and the last actual positive sample appear at index $1 + (R− 1) \\frac{N}{R}$. What is the average precision?\n",
    "* Hint: The answer can be an expression that contains a summation and depends on $R$ and $N$. You will (likely) not be able to write it without a summation.\n",
    "\n",
    "**Svar:** Nå er de sanne positive ikke jevnt fordelt fra midten av listen, men starter helt øverst og er spredd jevnt utover derfra. Etter sortering har vi altså at:\n",
    "* 1. positiv er på plass $1$\n",
    "* 2. positiv er på plass $1 + \\frac{N}{R}$\n",
    "* 3. positiv er på plass $1 + 2\\frac{N}{R}$\n",
    "* $l$. positiv er på plass $1 + (l - 1)\\frac{N}{R}$, for $l = 1, 2, ..., R$\n",
    "\n",
    "Skal altså regne ut $$AP = \\frac{1}{R}\\sum_{l=1}^R P@k_l$$\n",
    "hvor $$P@k_l = \\frac{l}{k_l} = \\frac{l}{1 + (l - 1)\\frac{N}{R}}$$\n",
    "Altså $$AP = \\frac{1}{R}\\sum_{l=1}^R\\frac{l}{1 + (l - 1)\\frac{N}{R}}$$"
   ]
  },
  {
   "cell_type": "markdown",
   "metadata": {},
   "source": [
    "**c)** Will the average precision in subtask b be lower or higher than the average\n",
    "precision in subtask a?\n",
    "\n",
    "Oppgavens første ledd er i a) $\\frac{1}{\\frac{N}{R}} = \\frac{R}{N}$, mens i oppgave b) har vi jo at første sanne positive starter på 1, slik at vi får $1/1 = 1.0$. Dermed får vi høyere AP i oppgave b) enn i a), siden vi får mer poeng for å finne sanne positive tidlig i rangeringen."
   ]
  },
  {
   "cell_type": "markdown",
   "metadata": {
    "vscode": {
     "languageId": "plaintext"
    }
   },
   "source": [
    "### 3 Average Precision and Accuracy of a Linear Classifier\n",
    "\n",
    "Consider a linear classifier $s(x) = wx + b$ classifying samples as positives if\n",
    "$s(x) > 0$ and otherwise as negatives. $w$ and $b$ are trainable parameters.\n",
    "\n",
    "**a) Which of the trainable parameters will impact the resulting average precision\n",
    "calculated using the prediction scores for the positive class, $s(x)$? Please explain.**\n",
    "\n",
    "Vi begynner med å sortere alle prøver etter $s(x)$, høyeste først. Så sjekker vi om det ligger true positive scores tidlig i lista, fordi AP bryr seg om rekkefølgen på scorene. $w$ skalerer projeksjonen av $x$, mens $b$ bare flytter scoren opp eller ned affint med samme verdi. Så det er kun $w$ som endrer scorene slik at de påvirker AP.\n",
    "\n",
    "**b) Which of the trainable parameters will impact the resulting accuracy? Please\n",
    "explain.**\n",
    "\n",
    "$w$ endrer jo retning og styrke på hvordan en score projiseres, mens $b$ er en terskel, den flytter hele skalaen opp eller ned. Så selv med en god $w$ kan scoren ødelegges av en feil $b$. Dermed er både $w, b$ viktige for accuracy. "
   ]
  },
  {
   "cell_type": "markdown",
   "metadata": {
    "vscode": {
     "languageId": "plaintext"
    }
   },
   "source": [
    "### 4 Area Under the Receiver Operating Characteristic Curve (AUROC)\n",
    "\n",
    "**a) Assume that we observe that a model obtains an AUROC of 1 when using a\n",
    "particular evaluation set. What does that imply for the ranking of the prediction\n",
    "scores for the positive class in that evaluation set?**\n",
    "\n",
    "AUROC står for: Area Under the Receiver Operating Characteristic Curve, og måler hvor godt modellen rangerer positive prøver over negative prøver. Med andre ord: Tar du én tilfeldig positiv prøve og én tilfeldig negativ prøve - hvor stor er sannsynligheten for at den positive får høyere score enn den negative?\n",
    "\n",
    "AUROC = 1 betyr: **Modellen rangerer alle positive prøver høyere enn alle negative prøver. Uten unntak. Det er det beste mulige resultatet – perfekt separasjon.**\n",
    "\n",
    "Kontrast: Hva ville AUROC = 0.5 bety? **Scorene kunne like gjerne vært tilfeldig trukket. Modellen er ikke bedre enn gjetting.**"
   ]
  },
  {
   "cell_type": "code",
   "execution_count": null,
   "metadata": {
    "vscode": {
     "languageId": "plaintext"
    }
   },
   "outputs": [],
   "source": []
  },
  {
   "cell_type": "markdown",
   "metadata": {},
   "source": []
  }
 ],
 "metadata": {
  "language_info": {
   "name": "python"
  }
 },
 "nbformat": 4,
 "nbformat_minor": 2
}

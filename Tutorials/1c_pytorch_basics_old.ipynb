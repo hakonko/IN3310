{
 "cells": [
  {
   "cell_type": "markdown",
   "metadata": {},
   "source": [
    "### Numpy implementation of a network"
   ]
  },
  {
   "cell_type": "code",
   "execution_count": 1,
   "metadata": {},
   "outputs": [
    {
     "name": "stdout",
     "output_type": "stream",
     "text": [
      "99 2800.2875573666956\n",
      "199 1886.966966311541\n",
      "299 1273.5940082337368\n",
      "399 861.3209317258795\n",
      "499 583.9780909088296\n",
      "599 397.2398709524092\n",
      "699 271.3919345046298\n",
      "799 186.49976701136524\n",
      "899 129.17934647607726\n",
      "999 90.43731303516178\n",
      "1099 64.22548904653358\n",
      "1199 46.47281874744557\n",
      "1299 34.43657898860908\n",
      "1399 26.2672395115711\n",
      "1499 20.716390438977474\n",
      "1599 16.94054068469028\n",
      "1699 14.369208118558294\n",
      "1799 12.616157495374054\n",
      "1899 11.41961909015965\n",
      "1999 10.6019887366157\n",
      "Result: y = -0.03305496460451579 + 0.8290814763331356 x + 0.005702531431264186 x^2 + -0.08939608498162624 x^3\n"
     ]
    }
   ],
   "source": [
    "import numpy as np\n",
    "import math\n",
    "\n",
    "x = np.linspace(-math.pi, math.pi, 2000)\n",
    "y = np.sin(x)\n",
    "\n",
    "b_0 = np.random.randn()\n",
    "b_1 = np.random.randn()\n",
    "b_2 = np.random.randn()\n",
    "b_3 = np.random.randn()\n",
    "\n",
    "learning_rate = 1e-6\n",
    "for t in range(2000):\n",
    "    # y = b_0 + b_1x + b_2x^2 + b_3x^3\n",
    "    y_pred = b_0 + b_1 * x + b_2 * x ** 2 + b_3 * x ** 3\n",
    "\n",
    "    loss = np.square(y_pred - y).sum()\n",
    "    if t % 100 == 99:\n",
    "        print(t, loss)\n",
    "\n",
    "    # backprop\n",
    "    grad_y_pred = 2.0 * (y_pred - y)\n",
    "    grad_a = grad_y_pred.sum()\n",
    "    grad_b = (grad_y_pred * x).sum()\n",
    "    grad_c = (grad_y_pred * x ** 2).sum()\n",
    "    grad_d = (grad_y_pred * x ** 3).sum()\n",
    "\n",
    "    b_0 -= learning_rate * grad_a\n",
    "    b_1 -= learning_rate * grad_b\n",
    "    b_2 -= learning_rate * grad_c\n",
    "    b_3 -= learning_rate * grad_d\n",
    "\n",
    "print(f'Result: y = {b_0} + {b_1} x + {b_2} x^2 + {b_3} x^3')"
   ]
  },
  {
   "cell_type": "markdown",
   "metadata": {},
   "source": [
    "### Torch with manual backprop"
   ]
  },
  {
   "cell_type": "code",
   "execution_count": 2,
   "metadata": {},
   "outputs": [
    {
     "name": "stdout",
     "output_type": "stream",
     "text": [
      "99 27.092018127441406\n",
      "199 21.743900299072266\n",
      "299 17.961654663085938\n",
      "399 15.286208152770996\n",
      "499 13.393621444702148\n",
      "599 12.054801940917969\n",
      "699 11.107683181762695\n",
      "799 10.437664031982422\n",
      "899 9.963652610778809\n",
      "999 9.628307342529297\n",
      "1099 9.391057014465332\n",
      "1199 9.223207473754883\n",
      "1299 9.104451179504395\n",
      "1399 9.020431518554688\n",
      "1499 8.960987091064453\n",
      "1599 8.918926239013672\n",
      "1699 8.889167785644531\n",
      "1799 8.868112564086914\n",
      "1899 8.853214263916016\n",
      "1999 8.842673301696777\n",
      "Result: y = -0.005341586656868458 + 0.8569357395172119 x + 0.000921514758374542 x^2 + -0.093358114361763 x^3\n"
     ]
    }
   ],
   "source": [
    "import torch\n",
    "import math\n",
    "\n",
    "dtype = torch.float\n",
    "device = torch.device(\"cuda\")\n",
    "\n",
    "x = torch.linspace(-math.pi, math.pi, 2000, device=device, dtype=dtype)\n",
    "y = torch.sin(x)\n",
    "\n",
    "b_0 = torch.randn((), device=device, dtype=dtype)\n",
    "b_1 = torch.randn((), device=device, dtype=dtype)\n",
    "b_2 = torch.randn((), device=device, dtype=dtype)\n",
    "b_3 = torch.randn((), device=device, dtype=dtype)\n",
    "\n",
    "learning_rate = 1e-6\n",
    "\n",
    "for t in range(2000):\n",
    "    # Forward pass\n",
    "    y_pred = b_0 + b_1 * x + b_2 * x ** 2 + b_3 * x ** 3\n",
    "\n",
    "    loss = (y_pred - y).pow(2).sum().item()\n",
    "    if t % 100 == 99:\n",
    "        print(t, loss)\n",
    "\n",
    "    # backprop\n",
    "    grad_y_pred = 2.0 * (y_pred - y)\n",
    "    grad_b_0 = grad_y_pred.sum()\n",
    "    grad_b_1 = (grad_y_pred * x).sum()\n",
    "    grad_b_2 = (grad_y_pred * x ** 2).sum()\n",
    "    grad_b_3 = (grad_y_pred * x ** 3).sum()\n",
    "\n",
    "    b_0 -= learning_rate * grad_b_0\n",
    "    b_1 -= learning_rate * grad_b_1\n",
    "    b_2 -= learning_rate * grad_b_2\n",
    "    b_3 -= learning_rate * grad_b_3\n",
    "\n",
    "print(f'Result: y = {b_0.item()} + {b_1.item()} x + {b_2.item()} x^2 + {b_3.item()} x^3')"
   ]
  },
  {
   "cell_type": "markdown",
   "metadata": {},
   "source": [
    "### Torch with AutoGrad"
   ]
  },
  {
   "cell_type": "code",
   "execution_count": 4,
   "metadata": {},
   "outputs": [
    {
     "name": "stdout",
     "output_type": "stream",
     "text": [
      "Using cuda accelerator for this training\n",
      "99 711.9589233398438\n",
      "199 477.0148620605469\n",
      "299 320.7103576660156\n",
      "399 216.68212890625\n",
      "499 147.41824340820312\n",
      "599 101.28123474121094\n",
      "699 70.53512573242188\n",
      "799 50.035804748535156\n",
      "899 36.36149597167969\n",
      "999 27.23501205444336\n",
      "1099 21.140478134155273\n",
      "1199 17.068132400512695\n",
      "1299 14.345427513122559\n",
      "1399 12.52393913269043\n",
      "1499 11.304506301879883\n",
      "1599 10.487556457519531\n",
      "1699 9.93985366821289\n",
      "1799 9.572383880615234\n",
      "1899 9.325641632080078\n",
      "1999 9.159823417663574\n",
      "Result: y = 0.01048079039901495 + 0.8415372371673584 x + -0.0018081108573824167 x^2 + -0.09116780757904053 x^3\n"
     ]
    }
   ],
   "source": [
    "import torch\n",
    "import math\n",
    "\n",
    "dtype = torch.float\n",
    "device = torch.device(\"cuda\") if torch.cuda.is_available() else torch.device(\"cpu\")\n",
    "\n",
    "print(f\"Using {device.type} accelerator for this training\")\n",
    "torch.set_default_device(device)\n",
    "\n",
    "x = torch.linspace(-math.pi, math.pi, 2000, dtype=dtype)\n",
    "y = torch.sin(x)\n",
    "\n",
    "b_0 = torch.randn((), dtype=dtype, requires_grad=True)\n",
    "b_1 = torch.randn((), dtype=dtype, requires_grad=True)\n",
    "b_2 = torch.randn((), dtype=dtype, requires_grad=True)\n",
    "b_3 = torch.randn((), dtype=dtype, requires_grad=True)\n",
    "\n",
    "learning_rate = 1e-6\n",
    "\n",
    "for t in range(2000):\n",
    "    y_pred = b_0 + b_1 * x + b_2 * x ** 2 + b_3 * x ** 3\n",
    "\n",
    "    loss = (y_pred - y).pow(2).sum()\n",
    "    if t % 100 == 99:\n",
    "        print(t, loss.item())\n",
    "\n",
    "    loss.backward() # autograd provided by torch\n",
    "\n",
    "    with torch.no_grad():\n",
    "        b_0 -= learning_rate * b_0.grad\n",
    "        b_1 -= learning_rate * b_1.grad\n",
    "        b_2 -= learning_rate * b_2.grad\n",
    "        b_3 -= learning_rate * b_3.grad\n",
    "\n",
    "        # zeroing the gradients after updating weights\n",
    "        b_0.grad = None\n",
    "        b_1.grad = None\n",
    "        b_2.grad = None\n",
    "        b_3.grad = None\n",
    "    \n",
    "print(f'Result: y = {b_0.item()} + {b_1.item()} x + {b_2.item()} x^2 + {b_3.item()} x^3')"
   ]
  },
  {
   "cell_type": "code",
   "execution_count": null,
   "metadata": {},
   "outputs": [],
   "source": []
  }
 ],
 "metadata": {
  "kernelspec": {
   "display_name": "Python (in3310)",
   "language": "python",
   "name": "in3310"
  },
  "language_info": {
   "codemirror_mode": {
    "name": "ipython",
    "version": 3
   },
   "file_extension": ".py",
   "mimetype": "text/x-python",
   "name": "python",
   "nbconvert_exporter": "python",
   "pygments_lexer": "ipython3",
   "version": "3.12.2"
  }
 },
 "nbformat": 4,
 "nbformat_minor": 2
}
